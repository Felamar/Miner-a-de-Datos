{
 "cells": [
  {
   "cell_type": "markdown",
   "metadata": {},
   "source": [
    "## Modelo de entrenamiento para la base de datos golf"
   ]
  },
  {
   "cell_type": "markdown",
   "metadata": {},
   "source": [
    "#### Importación de librerías\n",
    "\n",
    "Importamos las librerías pandas y numpy para agilizar el manejo de la base de datos."
   ]
  },
  {
   "cell_type": "code",
   "execution_count": 112,
   "metadata": {},
   "outputs": [],
   "source": [
    "import pandas as pd\n",
    "import numpy as np\n",
    "import matplotlib.pyplot as plt\n",
    "import statistics as stats"
   ]
  },
  {
   "cell_type": "markdown",
   "metadata": {},
   "source": [
    "#### Definición de variables"
   ]
  },
  {
   "cell_type": "markdown",
   "metadata": {},
   "source": [
    "##### traform_data(df)\n",
    "\n",
    "Esta función es la encargada de transformar el `DataFrame` *`df`*. La transformación consiste en reemplazar la columna `outlook`, que contiene los valores ***sunny***, ***rainy***, y ***outcast***, por tres nuevas columnas con los mismos nombres. Los valores de estas columnas son un $1$ o un $0$, dependiendo del antiguo valor de `outlook`.  \n",
    "\n",
    "> **NOTA:** La transformación de la base de datos ha sido programada específicamente para la base de datos `golf` y cualquier otra base de datos con la misma estructura.  \n",
    "> En caso de introducir una base de datos que no cumpla esta condición, el programa no arrojará los resultados esperados.  \n"
   ]
  },
  {
   "cell_type": "code",
   "execution_count": 113,
   "metadata": {},
   "outputs": [],
   "source": [
    "def transform_data(df):\n",
    "    dummies       = pd.get_dummies(df['outlook'])\n",
    "    df            = pd.concat([df, dummies], axis=1)\n",
    "    df            = df.drop(['outlook'], axis=1)\n",
    "    cols          = df.columns.tolist()\n",
    "    cols          = cols[-1 : -4 : -1] + cols[:-3]\n",
    "    df[cols[:-1]] = df[cols[:-1]].astype('int64')\n",
    "    return df[cols]"
   ]
  },
  {
   "cell_type": "markdown",
   "metadata": {},
   "source": [
    "##### read_data(path)\n",
    "\n",
    "Una simple función que lee una base de datos de un archivo csv desde el `path` a un `DataFrame`, y retorna la transformación de este."
   ]
  },
  {
   "cell_type": "code",
   "execution_count": 114,
   "metadata": {},
   "outputs": [],
   "source": [
    "def read_data(path):\n",
    "    df = pd.read_csv(path)\n",
    "    return transform_data(df)"
   ]
  },
  {
   "cell_type": "markdown",
   "metadata": {},
   "source": [
    "##### split_data(df, train_size)\n",
    "\n",
    "Función encargada de separar las filas que usaremos para el entrenamiento del modelo de las filas que usaremos para probar el modelo.  \n",
    "\n",
    "Se recibe el `DataFrame`, y el tamaño de la muestra de entrenamiento. Seguido creamos una variable `sample_df` que almacena una muestra de `df` pero organizado de forma aleatoria por el método `df.sample(frac = 1)` .  \n",
    "\n",
    "> **NOTA:** El método `sample()` se encarga de crear y retornar un `DataFrame` muestra, donde las filas han sido organizadas aleatoriamente. El *keyarg* `frac` representa el porcentaje de `df` que servirá como muestra. En esta ocasión está igualado a $1$ ya que necesitamos todo el `DataFrame`.\n",
    "\n",
    "Almacenamos los valores desde $0$ hasta `train_size-1` de esta muestra en la variable `train`. El resto es almacenado en la variable `test`.  \n",
    "\n",
    "Se retorna un `tuple` con ambos `DataFrames`."
   ]
  },
  {
   "cell_type": "code",
   "execution_count": 115,
   "metadata": {},
   "outputs": [],
   "source": [
    "def split_data(df, train_size):\n",
    "    sample_df = df.sample(frac=1)\n",
    "    train     = sample_df[ : train_size]\n",
    "    test      = sample_df[train_size : ]\n",
    "    return train, test"
   ]
  },
  {
   "cell_type": "markdown",
   "metadata": {},
   "source": [
    "##### euclidean_distance(p, q)\n",
    "\n",
    "Función encargada de calcular la distancia euclidiana entre la fila test $p$ y la fila train $q$.  \n",
    "\n",
    "Se reciben dos `numpy arrays` y se excluye el último valor de ambos, el cual representa el valor de `play`.\n",
    "Dado que son `numpy array` los arreglos pueden ser tratados como vectores euclidianos, por lo que hacemos la sustracción, y la elevación al cuadrado de forma directa. \n",
    "\n",
    "Esta operación retorna un nuevo `numpy array`, el cual es pasado como parámetro a la función `np.sum()`. `np.sum()` retorna la suma de todos los valores que se encuentran dentro de el *array*. El resultado de esta suma es pasado a la función `np.sqrt()` para calcular su raíz cuadrada.  \n",
    "\n",
    "Finalmente, el valor de la raíz cuadrada es retornado."
   ]
  },
  {
   "cell_type": "code",
   "execution_count": 116,
   "metadata": {},
   "outputs": [],
   "source": [
    "def euclidean_distance(p, q):\n",
    "    x = np.array(p.values)[:-1]\n",
    "    y = np.array(q.values)[:-1]\n",
    "    return np.sqrt(np.sum((y - x) ** 2))"
   ]
  },
  {
   "cell_type": "markdown",
   "metadata": {},
   "source": [
    "##### kNearestNeighbors(x, train_data, k)\n",
    "\n",
    "Función encargada de retornar los vecinos más cercanos a $p$.  \n",
    "\n",
    "Se recibe los siguientes argumentos:\n",
    "- `p` : Un `numpy array` que contiene la información de la fila a evaluar \n",
    "- `k` : El número de vecinos a tomar en cuenta \n",
    "- `train_data` : Un `DataFrame` con las filas de entrenamiento.  \n",
    "  \n",
    "Se crea un arreglo `neighbors` usando un técnica llamada *list comprehension*. El tamaño del arreglo es igual al tamaño de `train_data`.   \n",
    "Esta variable almacena un arreglo de *tuples*, los cuales tienen como primer elemento la distancia entre $p$ y $q_i$. El segundo elemento de cada `tuple` es el índice de $q_i$.  \n",
    "\n",
    "El arreglo se organiza de forma ascendente basándose en los valores de las distancias euclidianas y finalmente se retornan los primeros $k$ elementos del arreglo, los cuales representan los $k$ vecinos más cercanos."
   ]
  },
  {
   "cell_type": "code",
   "execution_count": 117,
   "metadata": {},
   "outputs": [],
   "source": [
    "def kNearestNeighbors(p, train_data, k):\n",
    "    neighbors = [(euclidean_distance(p, q), i) for i, q in train_data.iterrows()]    \n",
    "    neighbors.sort()\n",
    "    return neighbors[ :k]"
   ]
  },
  {
   "cell_type": "markdown",
   "metadata": {},
   "source": [
    "##### train(k, train_data, test_data)\n",
    "\n",
    "Función encargada de predecir el valor de `play` de cada una de las filas en `test_data`, y retornar el porcentaje de error del modelo.  \n",
    "\n",
    "Recibe los siguientes parámetros:\n",
    "- `k` : Número de vecinos a tomar en cuenta\n",
    "- `train_data` : Un `DataFrame` con las filas de entrenamiento.\n",
    "- `test_data` : Un `DataFrame` con las filas de prueba.  \n",
    "\n",
    "Se inicializa una variable `errors` con un valor de $0$ que representa el número de resultados erróneos. Se aumenta en uno cada que la predicción sea distinta al valor de `p['play']`.  \n",
    "Una vez terminadas las predicciones, se retorna el porcentaje de errores en el modelo. "
   ]
  },
  {
   "cell_type": "code",
   "execution_count": 118,
   "metadata": {},
   "outputs": [],
   "source": [
    "def train(k, train_data, test_data):\n",
    "    errors = 0\n",
    "    for i, p in test_data.iterrows():\n",
    "        y          = kNearestNeighbors(p, train_data, k)\n",
    "        results    = df.iloc[[tup[1] for tup in y]]['play'].tolist()\n",
    "        prediction = stats.mode(results)\n",
    "\n",
    "        # print(f'Punto: {p.values, i} \\nVecinos: {y} \\nPredicción: {prediction}\\n\\n')\n",
    "\n",
    "        if prediction != p['play']:\n",
    "            errors += 1\n",
    "        \n",
    "    return errors / len(test_data)"
   ]
  },
  {
   "cell_type": "code",
   "execution_count": 119,
   "metadata": {},
   "outputs": [
    {
     "name": "stdout",
     "output_type": "stream",
     "text": [
      "    sunny  rainy  overcast  temperature  humidity  windy play\n",
      "11      0      0         1           72        90      1  yes\n",
      "13      0      1         0           71        91      1   no\n",
      "10      1      0         0           75        70      1  yes\n",
      "5       0      1         0           65        70      1   no\n",
      "3       0      1         0           70        96      0  yes\n",
      "4       0      1         0           68        80      0  yes\n",
      "7       1      0         0           72        95      0   no\n",
      "0       1      0         0           85        85      0   no\n",
      "6       0      0         1           64        65      1  yes\n",
      "12      0      0         1           81        75      0  yes\n",
      "\n",
      "\n",
      "   sunny  rainy  overcast  temperature  humidity  windy play\n",
      "9      0      1         0           75        80      0  yes\n",
      "1      1      0         0           80        90      1   no\n",
      "2      0      0         1           83        86      0  yes\n",
      "8      1      0         0           69        70      0  yes\n"
     ]
    }
   ],
   "source": [
    "df = read_data('golf.csv')\n",
    "train_data, test_data = split_data(df, 10)\n",
    "print(f'{train_data}\\n\\n')\n",
    "print(test_data)"
   ]
  },
  {
   "cell_type": "code",
   "execution_count": 120,
   "metadata": {},
   "outputs": [
    {
     "data": {
      "text/plain": [
       "0.0"
      ]
     },
     "execution_count": 120,
     "metadata": {},
     "output_type": "execute_result"
    }
   ],
   "source": [
    "train(3, train_data, test_data)"
   ]
  },
  {
   "cell_type": "code",
   "execution_count": 121,
   "metadata": {},
   "outputs": [
    {
     "data": {
      "text/plain": [
       "0.25"
      ]
     },
     "execution_count": 121,
     "metadata": {},
     "output_type": "execute_result"
    }
   ],
   "source": [
    "train(5, train_data, test_data)"
   ]
  },
  {
   "cell_type": "code",
   "execution_count": 122,
   "metadata": {},
   "outputs": [
    {
     "data": {
      "text/plain": [
       "0.25"
      ]
     },
     "execution_count": 122,
     "metadata": {},
     "output_type": "execute_result"
    }
   ],
   "source": [
    "train(7, train_data, test_data)"
   ]
  }
 ],
 "metadata": {
  "kernelspec": {
   "display_name": "Python 3",
   "language": "python",
   "name": "python3"
  },
  "language_info": {
   "codemirror_mode": {
    "name": "ipython",
    "version": 3
   },
   "file_extension": ".py",
   "mimetype": "text/x-python",
   "name": "python",
   "nbconvert_exporter": "python",
   "pygments_lexer": "ipython3",
   "version": "3.11.3"
  },
  "orig_nbformat": 4
 },
 "nbformat": 4,
 "nbformat_minor": 2
}
