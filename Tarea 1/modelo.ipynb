{
 "cells": [
  {
   "cell_type": "markdown",
   "metadata": {},
   "source": [
    "## Modelo de entrenamiento para la base de datos golf"
   ]
  },
  {
   "cell_type": "markdown",
   "metadata": {},
   "source": [
    "#### Importación de librerías\n",
    "\n",
    "Importamos las librerías pandas y numpy para agilizar el manejo de la base de datos."
   ]
  },
  {
   "cell_type": "code",
   "execution_count": 208,
   "metadata": {},
   "outputs": [],
   "source": [
    "import pandas as pd\n",
    "import numpy as np\n",
    "import matplotlib.pyplot as plt\n",
    "import statistics as stats"
   ]
  },
  {
   "cell_type": "markdown",
   "metadata": {},
   "source": [
    "#### Definición de variables"
   ]
  },
  {
   "cell_type": "markdown",
   "metadata": {},
   "source": [
    "##### traform_data(df)\n",
    "\n",
    "Esta función es la encargada de transformar el `DataFrame` *`df`*. La transformación consiste en reemplazar la columna `outlook`, que contiene los valores ***sunny***, ***rainy***, y ***outcast***, por tres nuevas columnas con los mismos nombres. Los valores de estas columnas son un `1` o un `0`, dependiendo del antiguo valor de `outlook`.  \n",
    "\n",
    "> **NOTA:** La transformación de la base de datos ha sido programada específicamente para la base de datos `golf` y cualquier otra base de datos con la misma estructura.  \n",
    "> En caso de introducir una base de datos que no cumpla esta condición, el programa no arrojará los resultados esperados.  \n"
   ]
  },
  {
   "cell_type": "code",
   "execution_count": 209,
   "metadata": {},
   "outputs": [],
   "source": [
    "def transform_data(df):\n",
    "    dummies       = pd.get_dummies(df['outlook'])\n",
    "    df            = pd.concat([df, dummies], axis=1)\n",
    "    df            = df.drop(['outlook'], axis=1)\n",
    "    cols          = df.columns.tolist()\n",
    "    cols          = cols[-1 : -4 : -1] + cols[:-3]\n",
    "    df[cols[:-1]] = df[cols[:-1]].astype('int64')\n",
    "    return df[cols]"
   ]
  },
  {
   "cell_type": "markdown",
   "metadata": {},
   "source": [
    "##### read_data(path)\n",
    "\n",
    "Una simple función que lee una base de datos de un archivo csv desde el `path` a un `DataFrame`, y retorna la transformación de este."
   ]
  },
  {
   "cell_type": "code",
   "execution_count": 210,
   "metadata": {},
   "outputs": [],
   "source": [
    "def read_data(path):\n",
    "    df = pd.read_csv(path)\n",
    "    return transform_data(df)"
   ]
  },
  {
   "cell_type": "markdown",
   "metadata": {},
   "source": [
    "##### split_data(df, train_size)\n",
    "\n",
    "Función encargada de separar las filas que usaremos para el entrenamiento del modelo de las filas que usaremos para probar el modelo.  \n",
    "\n",
    "Se recibe el `DataFrame`, y el tamaño de la muestra de entrenamiento. Seguido creamos una variable `sample_df` que almacena una muestra de `df` pero organizado de forma aleatoria por el método `df.sample(frac = 1)` .  \n",
    "\n",
    "> **NOTA:** El método `sample()` se encarga de crear y retornar un `DataFrame` muestra, donde las filas han sido organizadas aleatoriamente. El *keyarg* `frac` representa el porcentaje de `df` que servirá como muestra. En esta ocasión está igualado a `1` ya que necesitamos todo el `DataFrame`.\n",
    "\n",
    "Almacenamos los valores desde `0` hasta `train_size-1` de esta muestra en la variable `train`. El resto es almacenado en la variable `test`.  \n",
    "\n",
    "Se retorna un `tuple` con ambos `DataFrames`."
   ]
  },
  {
   "cell_type": "code",
   "execution_count": 211,
   "metadata": {},
   "outputs": [],
   "source": [
    "def split_data(df, train_size):\n",
    "    sample_df = df.sample(frac=1)\n",
    "    train     = sample_df[ : train_size]\n",
    "    test      = sample_df[train_size : ]\n",
    "    return train, test"
   ]
  },
  {
   "cell_type": "markdown",
   "metadata": {},
   "source": [
    "##### euclidean_distance(p, q)\n",
    "\n",
    "Función encargada de calcular la distancia euclidiana entre la fila test `p` y la fila train `q`.  \n",
    "\n",
    "Se reciben dos `numpy arrays` y se excluye el último valor de ambos, el cual representa el valor de `play`.\n",
    "Dado que son `numpy array` los arreglos pueden ser tratados como vectores euclidianos, por lo que hacemos la sustracción, y la elevación al cuadrado de forma directa. \n",
    "\n",
    "Esta operación retorna un nuevo `numpy array`, el cual es pasado como parámetro a la función `np.sum()`. `np.sum()` retorna la suma de todos los valores que se encuentran dentro de el *array*. El resultado de esta suma es pasado a la función `np.sqrt()` para calcular su raíz cuadrada.  \n",
    "\n",
    "Finalmente, el valor de la raíz cuadrada es retornado."
   ]
  },
  {
   "cell_type": "code",
   "execution_count": 212,
   "metadata": {},
   "outputs": [],
   "source": [
    "def euclidean_distance(p, q):\n",
    "    x = np.array(p.values)[:-1]\n",
    "    y = np.array(q.values)[:-1]\n",
    "    return np.sqrt(np.sum((y - x) ** 2))"
   ]
  },
  {
   "cell_type": "markdown",
   "metadata": {},
   "source": [
    "##### kNearestNeighbors(x, train_data, k)\n",
    "\n",
    "Función encargada de retornar los vecinos más cercanos a `x`.  \n",
    "\n",
    "Se crea un arreglo `neighbors` usando un técnica llamada *list comprehension*. El tamaño del arreglo es igual al tamaño de `train_data`.   \n",
    "Esta variable almacena un arreglo de *tuples*, los cuales tienen como primer elemento la distancia entre `p` y `q_i`. El segundo elemento de cada `tuple` es el índice de `q`.  \n",
    "\n",
    "El arreglo se organiza de forma ascendente basándose en los valores de las distancias euclidianas y finalmente se retornan los primeros `k` elementos del arreglo, los cuales representan los `k` vecinos más cercanos."
   ]
  },
  {
   "cell_type": "code",
   "execution_count": 213,
   "metadata": {},
   "outputs": [],
   "source": [
    "def kNearestNeighbors(p, train_data, k):\n",
    "    neighbors = [(euclidean_distance(p, q), i) for i, q in train_data.iterrows()]    \n",
    "    neighbors.sort()\n",
    "    return neighbors[ :k]"
   ]
  },
  {
   "cell_type": "code",
   "execution_count": 214,
   "metadata": {},
   "outputs": [],
   "source": [
    "def train(k, train_data, test_data):\n",
    "    errors = 0.0\n",
    "    for i, x in test_data.iterrows():\n",
    "        y          = kNearestNeighbors(x, train_data, k)\n",
    "        results    = df.iloc[[tup[1] for tup in y]]['play'].tolist()\n",
    "        prediction = stats.mode(results)\n",
    "\n",
    "        print(f'Punto: {x.values, i} \\nVecinos: {y} \\nPredicción: {prediction}\\n\\n')\n",
    "\n",
    "        if prediction != x[-1]:\n",
    "            errors += 1\n",
    "        \n",
    "    return errors / len(test_data)\n"
   ]
  },
  {
   "cell_type": "code",
   "execution_count": 215,
   "metadata": {},
   "outputs": [
    {
     "name": "stdout",
     "output_type": "stream",
     "text": [
      "    sunny  rainy  overcast  temperature  humidity  windy play\n",
      "9       0      1         0           75        80      0  yes\n",
      "2       0      0         1           83        86      0  yes\n",
      "6       0      0         1           64        65      1  yes\n",
      "13      0      1         0           71        91      1   no\n",
      "12      0      0         1           81        75      0  yes\n",
      "0       1      0         0           85        85      0   no\n",
      "5       0      1         0           65        70      1   no\n",
      "11      0      0         1           72        90      1  yes\n",
      "1       1      0         0           80        90      1   no\n",
      "4       0      1         0           68        80      0  yes\n",
      "    sunny  rainy  overcast  temperature  humidity  windy play\n",
      "10      1      0         0           75        70      1  yes\n",
      "8       1      0         0           69        70      0  yes\n",
      "3       0      1         0           70        96      0  yes\n",
      "7       1      0         0           72        95      0   no\n"
     ]
    }
   ],
   "source": [
    "df = read_data('golf.csv')\n",
    "train_data, test_data = split_data(df, 10)\n",
    "print(train_data)\n",
    "print(test_data)"
   ]
  },
  {
   "cell_type": "code",
   "execution_count": 216,
   "metadata": {},
   "outputs": [
    {
     "name": "stdout",
     "output_type": "stream",
     "text": [
      "Punto: (array([1, 0, 0, 75, 70, 1, 'yes'], dtype=object), 10) \n",
      "Vecinos: [(8.0, 12), (10.099504938362077, 5), (10.14889156509222, 9)] \n",
      "Predicción: yes\n",
      "\n",
      "\n",
      "Punto: (array([1, 0, 0, 69, 70, 0, 'yes'], dtype=object), 8) \n",
      "Vecinos: [(4.358898943540674, 5), (7.280109889280518, 6), (10.14889156509222, 4)] \n",
      "Predicción: yes\n",
      "\n",
      "\n",
      "Punto: (array([0, 1, 0, 70, 96, 0, 'yes'], dtype=object), 3) \n",
      "Vecinos: [(5.196152422706632, 13), (6.557438524302, 11), (11.789826122551595, 1)] \n",
      "Predicción: no\n",
      "\n",
      "\n",
      "Punto: (array([1, 0, 0, 72, 95, 0, 'no'], dtype=object), 7) \n",
      "Vecinos: [(4.47213595499958, 13), (5.291502622129181, 11), (9.486832980505138, 1)] \n",
      "Predicción: no\n",
      "\n",
      "\n"
     ]
    },
    {
     "data": {
      "text/plain": [
       "0.25"
      ]
     },
     "execution_count": 216,
     "metadata": {},
     "output_type": "execute_result"
    }
   ],
   "source": [
    "train(3, train_data, test_data)"
   ]
  },
  {
   "cell_type": "code",
   "execution_count": 217,
   "metadata": {},
   "outputs": [
    {
     "name": "stdout",
     "output_type": "stream",
     "text": [
      "Punto: (array([1, 0, 0, 75, 70, 1, 'yes'], dtype=object), 10) \n",
      "Vecinos: [(8.0, 12), (10.099504938362077, 5), (10.14889156509222, 9), (12.165525060596439, 6), (12.328828005937952, 4)] \n",
      "Predicción: yes\n",
      "\n",
      "\n",
      "Punto: (array([1, 0, 0, 69, 70, 0, 'yes'], dtype=object), 8) \n",
      "Vecinos: [(4.358898943540674, 5), (7.280109889280518, 6), (10.14889156509222, 4), (11.74734012447073, 9), (13.076696830622021, 12)] \n",
      "Predicción: yes\n",
      "\n",
      "\n",
      "Punto: (array([0, 1, 0, 70, 96, 0, 'yes'], dtype=object), 3) \n",
      "Vecinos: [(5.196152422706632, 13), (6.557438524302, 11), (11.789826122551595, 1), (16.1245154965971, 4), (16.46207763315433, 2)] \n",
      "Predicción: yes\n",
      "\n",
      "\n",
      "Punto: (array([1, 0, 0, 72, 95, 0, 'no'], dtype=object), 7) \n",
      "Vecinos: [(4.47213595499958, 13), (5.291502622129181, 11), (9.486832980505138, 1), (14.2828568570857, 2), (15.362291495737216, 9)] \n",
      "Predicción: yes\n",
      "\n",
      "\n"
     ]
    },
    {
     "data": {
      "text/plain": [
       "0.25"
      ]
     },
     "execution_count": 217,
     "metadata": {},
     "output_type": "execute_result"
    }
   ],
   "source": [
    "train(5, train_data, test_data)"
   ]
  },
  {
   "cell_type": "code",
   "execution_count": 218,
   "metadata": {},
   "outputs": [
    {
     "name": "stdout",
     "output_type": "stream",
     "text": [
      "Punto: (array([1, 0, 0, 75, 70, 1, 'yes'], dtype=object), 10) \n",
      "Vecinos: [(8.0, 12), (10.099504938362077, 5), (10.14889156509222, 9), (12.165525060596439, 6), (12.328828005937952, 4), (17.97220075561143, 2), (18.05547008526779, 0)] \n",
      "Predicción: yes\n",
      "\n",
      "\n",
      "Punto: (array([1, 0, 0, 69, 70, 0, 'yes'], dtype=object), 8) \n",
      "Vecinos: [(4.358898943540674, 5), (7.280109889280518, 6), (10.14889156509222, 4), (11.74734012447073, 9), (13.076696830622021, 12), (20.29778313018444, 11), (21.166010488516726, 13)] \n",
      "Predicción: yes\n",
      "\n",
      "\n",
      "Punto: (array([0, 1, 0, 70, 96, 0, 'yes'], dtype=object), 3) \n",
      "Vecinos: [(5.196152422706632, 13), (6.557438524302, 11), (11.789826122551595, 1), (16.1245154965971, 4), (16.46207763315433, 2), (16.76305461424021, 9), (18.65475810617763, 0)] \n",
      "Predicción: yes\n",
      "\n",
      "\n",
      "Punto: (array([1, 0, 0, 72, 95, 0, 'no'], dtype=object), 7) \n",
      "Vecinos: [(4.47213595499958, 13), (5.291502622129181, 11), (9.486832980505138, 1), (14.2828568570857, 2), (15.362291495737216, 9), (15.588457268119896, 4), (16.401219466856727, 0)] \n",
      "Predicción: yes\n",
      "\n",
      "\n"
     ]
    },
    {
     "data": {
      "text/plain": [
       "0.25"
      ]
     },
     "execution_count": 218,
     "metadata": {},
     "output_type": "execute_result"
    }
   ],
   "source": [
    "train(7, train_data, test_data)"
   ]
  },
  {
   "cell_type": "code",
   "execution_count": null,
   "metadata": {},
   "outputs": [],
   "source": []
  }
 ],
 "metadata": {
  "kernelspec": {
   "display_name": "Python 3",
   "language": "python",
   "name": "python3"
  },
  "language_info": {
   "codemirror_mode": {
    "name": "ipython",
    "version": 3
   },
   "file_extension": ".py",
   "mimetype": "text/x-python",
   "name": "python",
   "nbconvert_exporter": "python",
   "pygments_lexer": "ipython3",
   "version": "3.11.3"
  },
  "orig_nbformat": 4
 },
 "nbformat": 4,
 "nbformat_minor": 2
}
