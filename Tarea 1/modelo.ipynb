{
 "cells": [
  {
   "cell_type": "code",
   "execution_count": 254,
   "metadata": {},
   "outputs": [],
   "source": [
    "import pandas as pd\n",
    "import numpy as np\n",
    "import matplotlib.pyplot as plt\n",
    "import statistics as stats"
   ]
  },
  {
   "cell_type": "code",
   "execution_count": 255,
   "metadata": {},
   "outputs": [],
   "source": [
    "def transform_data(df):\n",
    "    dummies = pd.get_dummies(df['outlook'])\n",
    "    df      = pd.concat([df, dummies], axis=1)\n",
    "    df      = df.drop(['outlook'], axis=1)\n",
    "    cols    = df.columns.tolist()\n",
    "    cols    = cols[-1 : -4 : -1] + cols[:-3]\n",
    "    return df[cols]"
   ]
  },
  {
   "cell_type": "code",
   "execution_count": 256,
   "metadata": {},
   "outputs": [],
   "source": [
    "def read_data(path):\n",
    "    df = pd.read_csv(path)\n",
    "    return transform_data(df)"
   ]
  },
  {
   "cell_type": "code",
   "execution_count": 257,
   "metadata": {},
   "outputs": [],
   "source": [
    "def random_data(df):\n",
    "    df = df.sample(frac=1)\n",
    "    return df"
   ]
  },
  {
   "cell_type": "code",
   "execution_count": 258,
   "metadata": {},
   "outputs": [],
   "source": [
    "def split_data(df, train_size):\n",
    "    train = df[ : train_size]\n",
    "    test  = df[train_size : ]\n",
    "    return train, test"
   ]
  },
  {
   "cell_type": "code",
   "execution_count": 259,
   "metadata": {},
   "outputs": [],
   "source": [
    "def euclidean_distance(x, y):\n",
    "    return np.sqrt(np.sum((y[:-1] - x[:-1])**2))"
   ]
  },
  {
   "cell_type": "code",
   "execution_count": 260,
   "metadata": {},
   "outputs": [],
   "source": [
    "def kNearestNeighbors(x, train_data, k):\n",
    "    neighbors = []\n",
    "    for i in range(len(train_data)):\n",
    "        neighbors.append((euclidean_distance(x, train_data.iloc[i].values), i))\n",
    "    neighbors.sort()\n",
    "    return neighbors[:k+1]"
   ]
  },
  {
   "cell_type": "code",
   "execution_count": 261,
   "metadata": {},
   "outputs": [],
   "source": [
    "def train(k, train_data):\n",
    "    for i in range(len(train_data)):\n",
    "        x = train_data.iloc[i].values\n",
    "        y = kNearestNeighbors(x, train_data, k)\n",
    "        results = df.iloc[[y[i][1] for i in range(len(y))]]['play'].tolist()[1:]\n",
    "        prediction = stats.mode(results)\n",
    "        print(f'Punto: {x} \\nVecinos: {y[1:]} \\nPredicción: {prediction}\\n\\n')"
   ]
  },
  {
   "cell_type": "code",
   "execution_count": 262,
   "metadata": {},
   "outputs": [],
   "source": [
    "df = read_data('golf.csv')\n",
    "train_data, test_data = split_data(df, 10)"
   ]
  },
  {
   "cell_type": "code",
   "execution_count": 264,
   "metadata": {},
   "outputs": [
    {
     "name": "stdout",
     "output_type": "stream",
     "text": [
      "Punto: [1 0 0 85 85 0 'no'] \n",
      "Vecinos: [(7.14142842854285, 1), (16.401219466856727, 7), (21.93171219946131, 8)] \n",
      "Predicción: no\n",
      "\n",
      "\n",
      "Punto: [1 0 0 80 90 1 'no'] \n",
      "Vecinos: [(7.14142842854285, 0), (9.486832980505138, 7), (22.847319317591726, 8)] \n",
      "Predicción: no\n",
      "\n",
      "\n",
      "Punto: [0 0 1 83 86 0 'yes'] \n",
      "Vecinos: [(28.337254630609507, 6), (255.01176443450603, 0), (255.0529356819874, 1)] \n",
      "Predicción: no\n",
      "\n",
      "\n",
      "Punto: [0 1 0 70 96 0 'yes'] \n",
      "Vecinos: [(16.1245154965971, 4), (16.76305461424021, 9), (26.49528259898354, 5)] \n",
      "Predicción: yes\n",
      "\n",
      "\n",
      "Punto: [0 1 0 68 80 0 'yes'] \n",
      "Vecinos: [(7.0, 9), (10.488088481701515, 5), (16.1245154965971, 3)] \n",
      "Predicción: yes\n",
      "\n",
      "\n",
      "Punto: [0 1 0 65 70 1 'no'] \n",
      "Vecinos: [(10.488088481701515, 4), (14.177446878757825, 9), (26.49528259898354, 3)] \n",
      "Predicción: yes\n",
      "\n",
      "\n",
      "Punto: [0 0 1 64 65 1 'yes'] \n",
      "Vecinos: [(28.337254630609507, 2), (255.0529356819874, 5), (255.1019404081435, 8)] \n",
      "Predicción: yes\n",
      "\n",
      "\n",
      "Punto: [1 0 0 72 95 0 'no'] \n",
      "Vecinos: [(9.486832980505138, 1), (16.401219466856727, 0), (25.179356624028344, 8)] \n",
      "Predicción: no\n",
      "\n",
      "\n",
      "Punto: [1 0 0 69 70 0 'yes'] \n",
      "Vecinos: [(21.93171219946131, 0), (22.847319317591726, 1), (25.179356624028344, 7)] \n",
      "Predicción: no\n",
      "\n",
      "\n",
      "Punto: [0 1 0 75 80 0 'yes'] \n",
      "Vecinos: [(7.0, 4), (14.177446878757825, 5), (16.76305461424021, 3)] \n",
      "Predicción: yes\n",
      "\n",
      "\n"
     ]
    },
    {
     "name": "stderr",
     "output_type": "stream",
     "text": [
      "C:\\Users\\Ocnix\\AppData\\Local\\Temp\\ipykernel_26588\\2334864043.py:2: RuntimeWarning: overflow encountered in scalar subtract\n",
      "  return np.sqrt(np.sum((y[:-1] - x[:-1])**2))\n"
     ]
    }
   ],
   "source": [
    "train(3, train_data)"
   ]
  },
  {
   "cell_type": "code",
   "execution_count": 265,
   "metadata": {},
   "outputs": [
    {
     "name": "stdout",
     "output_type": "stream",
     "text": [
      "Punto: [1 0 0 85 85 0 'no'] \n",
      "Vecinos: [(7.14142842854285, 1), (16.401219466856727, 7), (21.93171219946131, 8), (255.01176443450603, 2), (255.24693925686944, 9)] \n",
      "Predicción: yes\n",
      "\n",
      "\n",
      "Punto: [1 0 0 80 90 1 'no'] \n",
      "Vecinos: [(7.14142842854285, 0), (9.486832980505138, 7), (22.847319317591726, 8), (255.0529356819874, 2), (255.24889813670106, 9)] \n",
      "Predicción: yes\n",
      "\n",
      "\n",
      "Punto: [0 0 1 83 86 0 'yes'] \n",
      "Vecinos: [(28.337254630609507, 6), (255.01176443450603, 0), (255.0529356819874, 1), (255.1979623743105, 9), (255.39772904237032, 7)] \n",
      "Predicción: no\n",
      "\n",
      "\n",
      "Punto: [0 1 0 70 96 0 'yes'] \n",
      "Vecinos: [(16.1245154965971, 4), (16.76305461424021, 9), (26.49528259898354, 5), (255.01176443450603, 7), (255.2704448227409, 1)] \n",
      "Predicción: no\n",
      "\n",
      "\n",
      "Punto: [0 1 0 68 80 0 'yes'] \n",
      "Vecinos: [(7.0, 9), (10.488088481701515, 5), (16.1245154965971, 3), (255.199921630082, 8), (255.4740691342274, 7)] \n",
      "Predicción: yes\n",
      "\n",
      "\n",
      "Punto: [0 1 0 65 70 1 'no'] \n",
      "Vecinos: [(10.488088481701515, 4), (14.177446878757825, 9), (26.49528259898354, 3), (255.03529167548558, 8), (255.0529356819874, 6)] \n",
      "Predicción: yes\n",
      "\n",
      "\n",
      "Punto: [0 0 1 64 65 1 'yes'] \n",
      "Vecinos: [(28.337254630609507, 2), (255.0529356819874, 5), (255.1019404081435, 8), (255.47602627252522, 4), (255.6814424239663, 9)] \n",
      "Predicción: yes\n",
      "\n",
      "\n",
      "Punto: [1 0 0 72 95 0 'no'] \n",
      "Vecinos: [(9.486832980505138, 1), (16.401219466856727, 0), (25.179356624028344, 8), (255.01176443450603, 3), (255.39772904237032, 2)] \n",
      "Predicción: yes\n",
      "\n",
      "\n",
      "Punto: [1 0 0 69 70 0 'yes'] \n",
      "Vecinos: [(21.93171219946131, 0), (22.847319317591726, 1), (25.179356624028344, 7), (255.03529167548558, 5), (255.1019404081435, 6)] \n",
      "Predicción: no\n",
      "\n",
      "\n",
      "Punto: [0 1 0 75 80 0 'yes'] \n",
      "Vecinos: [(7.0, 4), (14.177446878757825, 5), (16.76305461424021, 3), (255.1979623743105, 2), (255.24693925686944, 0)] \n",
      "Predicción: yes\n",
      "\n",
      "\n"
     ]
    },
    {
     "name": "stderr",
     "output_type": "stream",
     "text": [
      "C:\\Users\\Ocnix\\AppData\\Local\\Temp\\ipykernel_26588\\2334864043.py:2: RuntimeWarning: overflow encountered in scalar subtract\n",
      "  return np.sqrt(np.sum((y[:-1] - x[:-1])**2))\n"
     ]
    }
   ],
   "source": [
    "train(5, train_data)"
   ]
  },
  {
   "cell_type": "code",
   "execution_count": 266,
   "metadata": {},
   "outputs": [
    {
     "name": "stdout",
     "output_type": "stream",
     "text": [
      "Punto: [1 0 0 85 85 0 'no'] \n",
      "Vecinos: [(7.14142842854285, 1), (16.401219466856727, 7), (21.93171219946131, 8), (255.01176443450603, 2), (255.24693925686944, 9), (255.6169008496895, 4), (255.67948685805828, 3)] \n",
      "Predicción: yes\n",
      "\n",
      "\n",
      "Punto: [1 0 0 80 90 1 'no'] \n",
      "Vecinos: [(7.14142842854285, 0), (9.486832980505138, 7), (22.847319317591726, 8), (255.0529356819874, 2), (255.24889813670106, 9), (255.2704448227409, 3), (255.48189759746188, 4)] \n",
      "Predicción: yes\n",
      "\n",
      "\n",
      "Punto: [0 0 1 83 86 0 'yes'] \n",
      "Vecinos: [(28.337254630609507, 6), (255.01176443450603, 0), (255.0529356819874, 1), (255.1979623743105, 9), (255.39772904237032, 7), (255.5132090519001, 4), (255.52886334032794, 3)] \n",
      "Predicción: yes\n",
      "\n",
      "\n",
      "Punto: [0 1 0 70 96 0 'yes'] \n",
      "Vecinos: [(16.1245154965971, 4), (16.76305461424021, 9), (26.49528259898354, 5), (255.01176443450603, 7), (255.2704448227409, 1), (255.52886334032794, 2), (255.67948685805828, 0)] \n",
      "Predicción: no\n",
      "\n",
      "\n",
      "Punto: [0 1 0 68 80 0 'yes'] \n",
      "Vecinos: [(7.0, 9), (10.488088481701515, 5), (16.1245154965971, 3), (255.199921630082, 8), (255.4740691342274, 7), (255.47602627252522, 6), (255.48189759746188, 1)] \n",
      "Predicción: yes\n",
      "\n",
      "\n",
      "Punto: [0 1 0 65 70 1 'no'] \n",
      "Vecinos: [(10.488088481701515, 4), (14.177446878757825, 9), (26.49528259898354, 3), (255.03529167548558, 8), (255.0529356819874, 6), (256.13863433695434, 2), (256.22451092742864, 1)] \n",
      "Predicción: yes\n",
      "\n",
      "\n",
      "Punto: [0 0 1 64 65 1 'yes'] \n",
      "Vecinos: [(28.337254630609507, 2), (255.0529356819874, 5), (255.1019404081435, 8), (255.47602627252522, 4), (255.6814424239663, 9), (256.64761834079036, 0), (256.7235867621049, 1)] \n",
      "Predicción: yes\n",
      "\n",
      "\n",
      "Punto: [1 0 0 72 95 0 'no'] \n",
      "Vecinos: [(9.486832980505138, 1), (16.401219466856727, 0), (25.179356624028344, 8), (255.01176443450603, 3), (255.39772904237032, 2), (255.46036874630866, 9), (255.4740691342274, 4)] \n",
      "Predicción: yes\n",
      "\n",
      "\n",
      "Punto: [1 0 0 69 70 0 'yes'] \n",
      "Vecinos: [(21.93171219946131, 0), (22.847319317591726, 1), (25.179356624028344, 7), (255.03529167548558, 5), (255.1019404081435, 6), (255.199921630082, 4), (255.26848610825425, 9)] \n",
      "Predicción: no\n",
      "\n",
      "\n",
      "Punto: [0 1 0 75 80 0 'yes'] \n",
      "Vecinos: [(7.0, 4), (14.177446878757825, 5), (16.76305461424021, 3), (255.1979623743105, 2), (255.24693925686944, 0), (255.24889813670106, 1), (255.26848610825425, 8)] \n",
      "Predicción: yes\n",
      "\n",
      "\n"
     ]
    },
    {
     "name": "stderr",
     "output_type": "stream",
     "text": [
      "C:\\Users\\Ocnix\\AppData\\Local\\Temp\\ipykernel_26588\\2334864043.py:2: RuntimeWarning: overflow encountered in scalar subtract\n",
      "  return np.sqrt(np.sum((y[:-1] - x[:-1])**2))\n"
     ]
    }
   ],
   "source": [
    "train(7, train_data)"
   ]
  }
 ],
 "metadata": {
  "kernelspec": {
   "display_name": "Python 3",
   "language": "python",
   "name": "python3"
  },
  "language_info": {
   "codemirror_mode": {
    "name": "ipython",
    "version": 3
   },
   "file_extension": ".py",
   "mimetype": "text/x-python",
   "name": "python",
   "nbconvert_exporter": "python",
   "pygments_lexer": "ipython3",
   "version": "3.11.3"
  },
  "orig_nbformat": 4
 },
 "nbformat": 4,
 "nbformat_minor": 2
}
