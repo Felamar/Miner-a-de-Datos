{
 "cells": [
  {
   "cell_type": "code",
   "execution_count": 1,
   "metadata": {},
   "outputs": [],
   "source": [
    "import pandas as pd\n",
    "import numpy as np"
   ]
  },
  {
   "cell_type": "code",
   "execution_count": 2,
   "metadata": {},
   "outputs": [],
   "source": [
    "def read_data(file_name: str) -> pd.DataFrame:\n",
    "    df = pd.read_csv(file_name, header=None, sep=',')\n",
    "    df = df.replace('?', np.nan)\n",
    "    return df.astype(np.float32)"
   ]
  },
  {
   "cell_type": "code",
   "execution_count": 3,
   "metadata": {},
   "outputs": [],
   "source": [
    "def a_distance(centroid_a, object_a, range_a) -> float:\n",
    "    if np.isnan(centroid_a) or np.isnan(object_a): return 1\n",
    "    if centroid_a == object_a                    : return 0\n",
    "    if range_a == 1                              : return 1\n",
    "    return abs(centroid_a - object_a) / range_a"
   ]
  },
  {
   "cell_type": "code",
   "execution_count": 4,
   "metadata": {},
   "outputs": [],
   "source": [
    "def HEOM(centroid, object, ranges) -> float:\n",
    "    distances = np.array([a_distance(centroid[a], object[a], ranges[a]) for a in range(len(centroid))])\n",
    "    return np.sqrt(np.sum(np.square(distances)))"
   ]
  },
  {
   "cell_type": "code",
   "execution_count": 5,
   "metadata": {},
   "outputs": [],
   "source": [
    "def get_extremes(df : pd.DataFrame) -> list:\n",
    "    return [(df[column].dropna().max(), df[column].dropna().min()) for column in df.columns]"
   ]
  },
  {
   "cell_type": "code",
   "execution_count": 6,
   "metadata": {},
   "outputs": [],
   "source": [
    "def get_ranges(extremes : list) -> np.array:\n",
    "    return np.array([ex_tup[0] - ex_tup[1] for ex_tup in extremes])"
   ]
  },
  {
   "cell_type": "code",
   "execution_count": 7,
   "metadata": {},
   "outputs": [],
   "source": [
    "def get_centroids(extremes: list, k: int, ranges: np.array) -> np.array:\n",
    "    centroids = []\n",
    "\n",
    "    for _ in range(k):\n",
    "        centroid = []\n",
    "\n",
    "        for i, (max, min) in enumerate(extremes):\n",
    "            if   ranges[i] == 1            : a = np.random.choice([max, min])\n",
    "            elif max % 1 > 0 or min % 1 > 0: a = round(np.random.uniform(min, max), 2)\n",
    "            else                           : a = np.random.randint(min, max)\n",
    "            centroid.append(a)\n",
    "\n",
    "        centroids.append(centroid)\n",
    "        \n",
    "    return np.array(centroids)"
   ]
  },
  {
   "cell_type": "code",
   "execution_count": 8,
   "metadata": {},
   "outputs": [],
   "source": [
    "def clustering(centroids: np.array, df: pd.DataFrame, ranges: np.array) -> np.array:\n",
    "    clusters = np.zeros(len(df))\n",
    "\n",
    "    for i, row in df.iterrows():\n",
    "        distances   = np.array([HEOM(centroid, row, ranges) for centroid in centroids])\n",
    "        clusters[i] = np.argmin(distances)\n",
    "        \n",
    "    return clusters"
   ]
  },
  {
   "cell_type": "code",
   "execution_count": 9,
   "metadata": {},
   "outputs": [],
   "source": [
    "def k_means(df: pd.DataFrame, k: int) -> pd.DataFrame:\n",
    "    extremes     = get_extremes (df)\n",
    "    ranges       = get_ranges   (extremes)\n",
    "    centroids    = get_centroids(extremes, k, ranges)\n",
    "    clusters     = clustering   (centroids, df, ranges)\n",
    "    df_clustered = df.copy().assign(cluster=clusters)\n",
    "\n",
    "    cluster_array = []\n",
    "    cluster_array.append(clusters)\n",
    "    while True:\n",
    "        \n",
    "        new_centroids = np.array  ([round(df_clustered[df_clustered['cluster'] == i].mean(), 2)[:-1] for i in range(k)])\n",
    "        new_clusters  = clustering(new_centroids, df, ranges)\n",
    "\n",
    "        cluster_array.append(new_clusters)\n",
    "\n",
    "        if len(cluster_array) > 3: cluster_array.pop(0)\n",
    "        if len(cluster_array) > 2 and np.array_equal(cluster_array[0], cluster_array[2]): break\n",
    "        if np.array_equal(clusters, new_clusters): break\n",
    "\n",
    "        clusters = new_clusters\n",
    "        df_clustered['cluster'] = clusters\n",
    "\n",
    "        print(f'cemtroids: \\n{new_centroids}')\n",
    "        print(f'clusters: \\n{clusters}')\n",
    "        \n",
    "    return df.assign(cluster=clusters)"
   ]
  },
  {
   "cell_type": "code",
   "execution_count": 10,
   "metadata": {},
   "outputs": [
    {
     "name": "stdout",
     "output_type": "stream",
     "text": [
      "cemtroids: \n",
      "[[  1.57  43.54   1.09   1.76   1.91   1.11   1.43   1.59   1.91   1.26\n",
      "    1.68   1.34   1.7    1.7    1.87 127.38 114.58   3.56  55.32   1.59]\n",
      " [  1.68  38.21   1.32   1.16   1.42   1.11   1.16   1.53   1.89   1.74\n",
      "    1.68   1.68   2.     1.89   1.61  92.25  89.32   3.92  56.75   1.37]\n",
      " [  1.93  40.63   1.07   1.45   1.9    1.53   1.79   1.96   1.77   1.72\n",
      "    1.89   1.82   1.92   1.97   1.15  97.01  70.31   3.95  67.71   1.4 ]]\n",
      "clusters: \n",
      "[1. 1. 1. 1. 1. 1. 1. 1. 1. 1. 1. 1. 1. 1. 1. 1. 1. 1. 1. 1. 1. 1. 1. 1.\n",
      " 1. 1. 1. 1. 1. 1. 1. 1. 1. 1. 1. 1. 1. 1. 1. 0. 1. 1. 1. 1. 1. 1. 1. 1.\n",
      " 1. 1. 1. 1. 1. 1. 1. 1. 1. 1. 1. 1. 1. 1. 1. 1. 1. 1. 1. 0. 1. 1. 1. 1.\n",
      " 1. 1. 1. 1. 1. 1. 1. 1. 1. 1. 1. 0. 1. 1. 1. 0. 0. 1. 1. 1. 1. 1. 1. 1.\n",
      " 1. 1. 1. 1. 0. 1. 1. 1. 0. 1. 0. 1. 1. 1. 1. 1. 1. 1. 1. 1. 1. 1. 1. 1.\n",
      " 1. 0. 1. 1. 1. 1. 2. 0. 2. 0. 1. 1. 1. 1. 1. 0. 1. 1. 0. 1. 1. 0. 1. 1.\n",
      " 0. 1. 1. 0. 1. 1. 0. 1. 1. 1. 0.]\n",
      "cemtroids: \n",
      "[[  1.22  46.89   1.06   1.56   2.     1.     1.22   1.61   1.93   1.47\n",
      "    1.62   1.19   1.     1.5    2.48 137.47 104.17   2.9   43.62   1.89]\n",
      " [  1.87  40.44   1.11   1.5    1.82   1.4    1.66   1.82   1.81   1.59\n",
      "    1.82   1.72   1.98   1.92   1.29 101.13  83.84   3.96  65.     1.39]\n",
      " [  2.    41.     1.     1.5    2.     1.     1.     1.5    2.     2.\n",
      "    2.     1.5    1.     2.     1.1   85.    56.     3.55  66.     2.  ]]\n",
      "clusters: \n",
      "[2. 2. 2. 2. 2. 2. 2. 2. 2. 2. 2. 2. 2. 2. 2. 2. 2. 2. 2. 2. 2. 2. 2. 2.\n",
      " 2. 2. 2. 2. 2. 2. 2. 2. 2. 2. 2. 2. 2. 2. 2. 2. 2. 2. 2. 2. 2. 2. 2. 2.\n",
      " 2. 2. 2. 2. 2. 2. 2. 2. 2. 2. 2. 2. 2. 2. 2. 2. 2. 2. 2. 2. 2. 2. 2. 2.\n",
      " 2. 2. 2. 2. 2. 2. 2. 2. 2. 2. 2. 2. 2. 2. 2. 2. 2. 2. 2. 2. 2. 2. 2. 2.\n",
      " 2. 2. 2. 2. 2. 2. 2. 2. 2. 2. 2. 2. 2. 2. 2. 2. 2. 2. 2. 2. 2. 2. 2. 2.\n",
      " 2. 2. 2. 2. 2. 2. 2. 2. 2. 2. 2. 2. 2. 2. 2. 2. 2. 2. 2. 2. 2. 2. 2. 2.\n",
      " 2. 2. 2. 2. 2. 2. 2. 2. 2. 2. 2.]\n"
     ]
    }
   ],
   "source": [
    "df = read_data('hepatitis\\\\hepatitis.data')\n",
    "df_clustered = k_means(df, 3)\n",
    "df_clustered.to_csv('hepatitis_clustered.csv', index=False)"
   ]
  }
 ],
 "metadata": {
  "kernelspec": {
   "display_name": "Python 3",
   "language": "python",
   "name": "python3"
  },
  "language_info": {
   "codemirror_mode": {
    "name": "ipython",
    "version": 3
   },
   "file_extension": ".py",
   "mimetype": "text/x-python",
   "name": "python",
   "nbconvert_exporter": "python",
   "pygments_lexer": "ipython3",
   "version": "3.11.3"
  },
  "orig_nbformat": 4
 },
 "nbformat": 4,
 "nbformat_minor": 2
}
