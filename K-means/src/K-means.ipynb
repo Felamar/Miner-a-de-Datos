{
 "cells": [
  {
   "cell_type": "code",
   "execution_count": 11,
   "metadata": {},
   "outputs": [],
   "source": [
    "import pandas as pd\n",
    "import numpy as np"
   ]
  },
  {
   "cell_type": "code",
   "execution_count": 12,
   "metadata": {},
   "outputs": [],
   "source": [
    "def read_data(file_name: str) -> pd.DataFrame:\n",
    "    # Read data from file\n",
    "    df = pd.read_csv(file_name, header=None, sep=',')\n",
    "    # Replace '?' with NaN\n",
    "    df = df.replace('?', np.nan)\n",
    "    # Convert to float32\n",
    "    return df.astype(np.float32)"
   ]
  },
  {
   "cell_type": "code",
   "execution_count": 13,
   "metadata": {},
   "outputs": [],
   "source": [
    "def a_distance(centroid_a, object_a, range_a) -> float:\n",
    "    # Calculate distance between centroid and object\n",
    "\n",
    "    # If centroid or object is NaN, return 1\n",
    "    if np.isnan(centroid_a) or np.isnan(object_a): return 1\n",
    "    # If centroid and object are the same, return 0\n",
    "    if centroid_a == object_a                    : return 0\n",
    "    # Else, return distance\n",
    "    return abs(centroid_a - object_a) / range_a"
   ]
  },
  {
   "cell_type": "code",
   "execution_count": 14,
   "metadata": {},
   "outputs": [],
   "source": [
    "def HEOM(centroid, object, ranges) -> float:\n",
    "    # Calculate HEOM distance between centroid and object\n",
    "\n",
    "    # Calculate distance for each attribute and store it in an array\n",
    "    distances = np.array([a_distance(centroid[a], object[a], ranges[a]) for a in range(len(centroid))])\n",
    "    # Return square root of sum of squares of distances\n",
    "    return np.sqrt(np.sum(np.square(distances)))"
   ]
  },
  {
   "cell_type": "code",
   "execution_count": 15,
   "metadata": {},
   "outputs": [],
   "source": [
    "def get_extremes(df : pd.DataFrame) -> list:\n",
    "    # Get maximum and minimum values for each column\n",
    "\n",
    "    # Return list of tuples containing maximum and minimum values for each column\n",
    "    return [(df[column].dropna().max(), df[column].dropna().min()) for column in df.columns]"
   ]
  },
  {
   "cell_type": "code",
   "execution_count": 16,
   "metadata": {},
   "outputs": [],
   "source": [
    "def get_ranges(extremes : list) -> np.array:\n",
    "    # Get range for each column\n",
    "\n",
    "    # Return array of ranges for each column\n",
    "    return np.array([ex_tup[0] - ex_tup[1] for ex_tup in extremes])"
   ]
  },
  {
   "cell_type": "code",
   "execution_count": 17,
   "metadata": {},
   "outputs": [],
   "source": [
    "def get_centroids(extremes: list, k: int, ranges: np.array) -> np.array:\n",
    "    # Get k random centroids\n",
    "\n",
    "    # Create empty list to store centroids\n",
    "    centroids = []\n",
    "\n",
    "    # For each centroid\n",
    "    for _ in range(k):\n",
    "        # Create empty list to store centroid values\n",
    "        centroid = []\n",
    "\n",
    "        # For each column\n",
    "        for i, (max, min) in enumerate(extremes):\n",
    "            # If range is 1, choose either maximum or minimum\n",
    "            if   ranges[i] == 1            : a = np.random.choice([max, min])\n",
    "            # If range is float, choose a random float between maximum and minimum\n",
    "            elif max % 1 > 0 or min % 1 > 0: a = round(np.random.uniform(min, max), 2)\n",
    "            # If range is integer, choose a random integer between maximum and minimum\n",
    "            else                           : a = np.random.randint(min, max)\n",
    "            # Append value to centroid list\n",
    "            centroid.append(a)\n",
    "\n",
    "        # Append centroid to centroids list\n",
    "        centroids.append(centroid)\n",
    "        \n",
    "    # Return array of centroids\n",
    "    return np.array(centroids)"
   ]
  },
  {
   "cell_type": "code",
   "execution_count": 18,
   "metadata": {},
   "outputs": [],
   "source": [
    "def clustering(centroids: np.array, df: pd.DataFrame, ranges: np.array) -> np.array:\n",
    "    # Cluster objects to centroids\n",
    "\n",
    "    # Create empty array to store clusters\n",
    "    clusters = np.zeros(len(df))\n",
    "\n",
    "    # For each object\n",
    "    for i, row in df.iterrows():\n",
    "        # Calculate HEOM distance between object and each centroid\n",
    "        distances   = np.array([HEOM(centroid, row, ranges) for centroid in centroids])\n",
    "        # Assign object to cluster with minimum distance\n",
    "        clusters[i] = np.argmin(distances)\n",
    "\n",
    "    # Return array of clusters\n",
    "    return clusters"
   ]
  },
  {
   "cell_type": "code",
   "execution_count": 19,
   "metadata": {},
   "outputs": [],
   "source": [
    "def k_means(df: pd.DataFrame, k: int) -> pd.DataFrame:\n",
    "    # K-means clustering algorithm\n",
    "\n",
    "    # Get maximum and minimum values for each column\n",
    "    extremes     = get_extremes (df)\n",
    "    # Get range for each column\n",
    "    ranges       = get_ranges   (extremes)\n",
    "    # Get k random centroids\n",
    "    centroids    = get_centroids(extremes, k, ranges)\n",
    "    # Cluster objects to centroids\n",
    "    clusters     = clustering   (centroids, df, ranges)\n",
    "    # Create new dataframe with clusters\n",
    "    df_clustered = df.copy().assign(cluster=clusters)\n",
    "\n",
    "    # Create empty list to store clusters\n",
    "    cluster_array = []\n",
    "    # Append clusters to cluster array\n",
    "    cluster_array.append(clusters)\n",
    "\n",
    "    # While clusters are changing\n",
    "    while True:\n",
    "        # Calculate new centroids\n",
    "        new_centroids = np.array  ([round(df_clustered[df_clustered['cluster'] == i].mean(), 2)[:-1] for i in range(k)])\n",
    "        # Cluster objects to new centroids\n",
    "        new_clusters  = clustering(new_centroids, df, ranges)\n",
    "        # Append clusters to cluster array\n",
    "        cluster_array.append(new_clusters)\n",
    "\n",
    "        # If cluster array has more than 3 elements pop the first element\n",
    "        if len(cluster_array) > 3: cluster_array.pop(0)\n",
    "        # If first and third cluster are the same, break\n",
    "        if len(cluster_array) > 2 and np.array_equal(cluster_array[0], cluster_array[2]): break\n",
    "        # If second and third cluster are the same, break\n",
    "        if np.array_equal(clusters, new_clusters): break\n",
    "\n",
    "        # Set clusters to new clusters\n",
    "        clusters = new_clusters\n",
    "        # Set cluster column to new clusters\n",
    "        df_clustered['cluster'] = clusters\n",
    "\n",
    "        print(f'centroids: \\n{new_centroids}')\n",
    "        print(f'clusters: \\n{clusters}')\n",
    "\n",
    "    # Return dataframe with clusters        \n",
    "    return pd.DataFrame(clusters)"
   ]
  },
  {
   "cell_type": "code",
   "execution_count": 20,
   "metadata": {},
   "outputs": [
    {
     "ename": "FileNotFoundError",
     "evalue": "[Errno 2] No such file or directory: 'K-means\\\\hepatitis\\\\hepatitis.data'",
     "output_type": "error",
     "traceback": [
      "\u001b[1;31m---------------------------------------------------------------------------\u001b[0m",
      "\u001b[1;31mFileNotFoundError\u001b[0m                         Traceback (most recent call last)",
      "\u001b[1;32mc:\\Users\\felip\\Documents\\GitHub\\Miner-a-de-Datos\\K-means\\src\\K-means.ipynb Cell 10\u001b[0m line \u001b[0;36m1\n\u001b[1;32m----> <a href='vscode-notebook-cell:/c%3A/Users/felip/Documents/GitHub/Miner-a-de-Datos/K-means/src/K-means.ipynb#X12sZmlsZQ%3D%3D?line=0'>1</a>\u001b[0m df \u001b[39m=\u001b[39m read_data(\u001b[39m'\u001b[39;49m\u001b[39mK-means\u001b[39;49m\u001b[39m\\\\\u001b[39;49;00m\u001b[39mhepatitis\u001b[39;49m\u001b[39m\\\\\u001b[39;49;00m\u001b[39mhepatitis.data\u001b[39;49m\u001b[39m'\u001b[39;49m)\n\u001b[0;32m      <a href='vscode-notebook-cell:/c%3A/Users/felip/Documents/GitHub/Miner-a-de-Datos/K-means/src/K-means.ipynb#X12sZmlsZQ%3D%3D?line=1'>2</a>\u001b[0m df_clustered \u001b[39m=\u001b[39m k_means(df, \u001b[39m10\u001b[39m)\n\u001b[0;32m      <a href='vscode-notebook-cell:/c%3A/Users/felip/Documents/GitHub/Miner-a-de-Datos/K-means/src/K-means.ipynb#X12sZmlsZQ%3D%3D?line=2'>3</a>\u001b[0m df_clustered\u001b[39m.\u001b[39mto_csv(\u001b[39m'\u001b[39m\u001b[39mhepatitis_clustered.csv\u001b[39m\u001b[39m'\u001b[39m, index\u001b[39m=\u001b[39m\u001b[39mFalse\u001b[39;00m)\n",
      "\u001b[1;32mc:\\Users\\felip\\Documents\\GitHub\\Miner-a-de-Datos\\K-means\\src\\K-means.ipynb Cell 10\u001b[0m line \u001b[0;36m3\n\u001b[0;32m      <a href='vscode-notebook-cell:/c%3A/Users/felip/Documents/GitHub/Miner-a-de-Datos/K-means/src/K-means.ipynb#X12sZmlsZQ%3D%3D?line=0'>1</a>\u001b[0m \u001b[39mdef\u001b[39;00m \u001b[39mread_data\u001b[39m(file_name: \u001b[39mstr\u001b[39m) \u001b[39m-\u001b[39m\u001b[39m>\u001b[39m pd\u001b[39m.\u001b[39mDataFrame:\n\u001b[0;32m      <a href='vscode-notebook-cell:/c%3A/Users/felip/Documents/GitHub/Miner-a-de-Datos/K-means/src/K-means.ipynb#X12sZmlsZQ%3D%3D?line=1'>2</a>\u001b[0m     \u001b[39m# Read data from file\u001b[39;00m\n\u001b[1;32m----> <a href='vscode-notebook-cell:/c%3A/Users/felip/Documents/GitHub/Miner-a-de-Datos/K-means/src/K-means.ipynb#X12sZmlsZQ%3D%3D?line=2'>3</a>\u001b[0m     df \u001b[39m=\u001b[39m pd\u001b[39m.\u001b[39;49mread_csv(file_name, header\u001b[39m=\u001b[39;49m\u001b[39mNone\u001b[39;49;00m, sep\u001b[39m=\u001b[39;49m\u001b[39m'\u001b[39;49m\u001b[39m,\u001b[39;49m\u001b[39m'\u001b[39;49m)\n\u001b[0;32m      <a href='vscode-notebook-cell:/c%3A/Users/felip/Documents/GitHub/Miner-a-de-Datos/K-means/src/K-means.ipynb#X12sZmlsZQ%3D%3D?line=3'>4</a>\u001b[0m     \u001b[39m# Replace '?' with NaN\u001b[39;00m\n\u001b[0;32m      <a href='vscode-notebook-cell:/c%3A/Users/felip/Documents/GitHub/Miner-a-de-Datos/K-means/src/K-means.ipynb#X12sZmlsZQ%3D%3D?line=4'>5</a>\u001b[0m     df \u001b[39m=\u001b[39m df\u001b[39m.\u001b[39mreplace(\u001b[39m'\u001b[39m\u001b[39m?\u001b[39m\u001b[39m'\u001b[39m, np\u001b[39m.\u001b[39mnan)\n",
      "File \u001b[1;32mc:\\Program Files\\Python311\\Lib\\site-packages\\pandas\\io\\parsers\\readers.py:912\u001b[0m, in \u001b[0;36mread_csv\u001b[1;34m(filepath_or_buffer, sep, delimiter, header, names, index_col, usecols, dtype, engine, converters, true_values, false_values, skipinitialspace, skiprows, skipfooter, nrows, na_values, keep_default_na, na_filter, verbose, skip_blank_lines, parse_dates, infer_datetime_format, keep_date_col, date_parser, date_format, dayfirst, cache_dates, iterator, chunksize, compression, thousands, decimal, lineterminator, quotechar, quoting, doublequote, escapechar, comment, encoding, encoding_errors, dialect, on_bad_lines, delim_whitespace, low_memory, memory_map, float_precision, storage_options, dtype_backend)\u001b[0m\n\u001b[0;32m    899\u001b[0m kwds_defaults \u001b[39m=\u001b[39m _refine_defaults_read(\n\u001b[0;32m    900\u001b[0m     dialect,\n\u001b[0;32m    901\u001b[0m     delimiter,\n\u001b[1;32m   (...)\u001b[0m\n\u001b[0;32m    908\u001b[0m     dtype_backend\u001b[39m=\u001b[39mdtype_backend,\n\u001b[0;32m    909\u001b[0m )\n\u001b[0;32m    910\u001b[0m kwds\u001b[39m.\u001b[39mupdate(kwds_defaults)\n\u001b[1;32m--> 912\u001b[0m \u001b[39mreturn\u001b[39;00m _read(filepath_or_buffer, kwds)\n",
      "File \u001b[1;32mc:\\Program Files\\Python311\\Lib\\site-packages\\pandas\\io\\parsers\\readers.py:577\u001b[0m, in \u001b[0;36m_read\u001b[1;34m(filepath_or_buffer, kwds)\u001b[0m\n\u001b[0;32m    574\u001b[0m _validate_names(kwds\u001b[39m.\u001b[39mget(\u001b[39m\"\u001b[39m\u001b[39mnames\u001b[39m\u001b[39m\"\u001b[39m, \u001b[39mNone\u001b[39;00m))\n\u001b[0;32m    576\u001b[0m \u001b[39m# Create the parser.\u001b[39;00m\n\u001b[1;32m--> 577\u001b[0m parser \u001b[39m=\u001b[39m TextFileReader(filepath_or_buffer, \u001b[39m*\u001b[39;49m\u001b[39m*\u001b[39;49mkwds)\n\u001b[0;32m    579\u001b[0m \u001b[39mif\u001b[39;00m chunksize \u001b[39mor\u001b[39;00m iterator:\n\u001b[0;32m    580\u001b[0m     \u001b[39mreturn\u001b[39;00m parser\n",
      "File \u001b[1;32mc:\\Program Files\\Python311\\Lib\\site-packages\\pandas\\io\\parsers\\readers.py:1407\u001b[0m, in \u001b[0;36mTextFileReader.__init__\u001b[1;34m(self, f, engine, **kwds)\u001b[0m\n\u001b[0;32m   1404\u001b[0m     \u001b[39mself\u001b[39m\u001b[39m.\u001b[39moptions[\u001b[39m\"\u001b[39m\u001b[39mhas_index_names\u001b[39m\u001b[39m\"\u001b[39m] \u001b[39m=\u001b[39m kwds[\u001b[39m\"\u001b[39m\u001b[39mhas_index_names\u001b[39m\u001b[39m\"\u001b[39m]\n\u001b[0;32m   1406\u001b[0m \u001b[39mself\u001b[39m\u001b[39m.\u001b[39mhandles: IOHandles \u001b[39m|\u001b[39m \u001b[39mNone\u001b[39;00m \u001b[39m=\u001b[39m \u001b[39mNone\u001b[39;00m\n\u001b[1;32m-> 1407\u001b[0m \u001b[39mself\u001b[39m\u001b[39m.\u001b[39m_engine \u001b[39m=\u001b[39m \u001b[39mself\u001b[39;49m\u001b[39m.\u001b[39;49m_make_engine(f, \u001b[39mself\u001b[39;49m\u001b[39m.\u001b[39;49mengine)\n",
      "File \u001b[1;32mc:\\Program Files\\Python311\\Lib\\site-packages\\pandas\\io\\parsers\\readers.py:1661\u001b[0m, in \u001b[0;36mTextFileReader._make_engine\u001b[1;34m(self, f, engine)\u001b[0m\n\u001b[0;32m   1659\u001b[0m     \u001b[39mif\u001b[39;00m \u001b[39m\"\u001b[39m\u001b[39mb\u001b[39m\u001b[39m\"\u001b[39m \u001b[39mnot\u001b[39;00m \u001b[39min\u001b[39;00m mode:\n\u001b[0;32m   1660\u001b[0m         mode \u001b[39m+\u001b[39m\u001b[39m=\u001b[39m \u001b[39m\"\u001b[39m\u001b[39mb\u001b[39m\u001b[39m\"\u001b[39m\n\u001b[1;32m-> 1661\u001b[0m \u001b[39mself\u001b[39m\u001b[39m.\u001b[39mhandles \u001b[39m=\u001b[39m get_handle(\n\u001b[0;32m   1662\u001b[0m     f,\n\u001b[0;32m   1663\u001b[0m     mode,\n\u001b[0;32m   1664\u001b[0m     encoding\u001b[39m=\u001b[39;49m\u001b[39mself\u001b[39;49m\u001b[39m.\u001b[39;49moptions\u001b[39m.\u001b[39;49mget(\u001b[39m\"\u001b[39;49m\u001b[39mencoding\u001b[39;49m\u001b[39m\"\u001b[39;49m, \u001b[39mNone\u001b[39;49;00m),\n\u001b[0;32m   1665\u001b[0m     compression\u001b[39m=\u001b[39;49m\u001b[39mself\u001b[39;49m\u001b[39m.\u001b[39;49moptions\u001b[39m.\u001b[39;49mget(\u001b[39m\"\u001b[39;49m\u001b[39mcompression\u001b[39;49m\u001b[39m\"\u001b[39;49m, \u001b[39mNone\u001b[39;49;00m),\n\u001b[0;32m   1666\u001b[0m     memory_map\u001b[39m=\u001b[39;49m\u001b[39mself\u001b[39;49m\u001b[39m.\u001b[39;49moptions\u001b[39m.\u001b[39;49mget(\u001b[39m\"\u001b[39;49m\u001b[39mmemory_map\u001b[39;49m\u001b[39m\"\u001b[39;49m, \u001b[39mFalse\u001b[39;49;00m),\n\u001b[0;32m   1667\u001b[0m     is_text\u001b[39m=\u001b[39;49mis_text,\n\u001b[0;32m   1668\u001b[0m     errors\u001b[39m=\u001b[39;49m\u001b[39mself\u001b[39;49m\u001b[39m.\u001b[39;49moptions\u001b[39m.\u001b[39;49mget(\u001b[39m\"\u001b[39;49m\u001b[39mencoding_errors\u001b[39;49m\u001b[39m\"\u001b[39;49m, \u001b[39m\"\u001b[39;49m\u001b[39mstrict\u001b[39;49m\u001b[39m\"\u001b[39;49m),\n\u001b[0;32m   1669\u001b[0m     storage_options\u001b[39m=\u001b[39;49m\u001b[39mself\u001b[39;49m\u001b[39m.\u001b[39;49moptions\u001b[39m.\u001b[39;49mget(\u001b[39m\"\u001b[39;49m\u001b[39mstorage_options\u001b[39;49m\u001b[39m\"\u001b[39;49m, \u001b[39mNone\u001b[39;49;00m),\n\u001b[0;32m   1670\u001b[0m )\n\u001b[0;32m   1671\u001b[0m \u001b[39massert\u001b[39;00m \u001b[39mself\u001b[39m\u001b[39m.\u001b[39mhandles \u001b[39mis\u001b[39;00m \u001b[39mnot\u001b[39;00m \u001b[39mNone\u001b[39;00m\n\u001b[0;32m   1672\u001b[0m f \u001b[39m=\u001b[39m \u001b[39mself\u001b[39m\u001b[39m.\u001b[39mhandles\u001b[39m.\u001b[39mhandle\n",
      "File \u001b[1;32mc:\\Program Files\\Python311\\Lib\\site-packages\\pandas\\io\\common.py:859\u001b[0m, in \u001b[0;36mget_handle\u001b[1;34m(path_or_buf, mode, encoding, compression, memory_map, is_text, errors, storage_options)\u001b[0m\n\u001b[0;32m    854\u001b[0m \u001b[39melif\u001b[39;00m \u001b[39misinstance\u001b[39m(handle, \u001b[39mstr\u001b[39m):\n\u001b[0;32m    855\u001b[0m     \u001b[39m# Check whether the filename is to be opened in binary mode.\u001b[39;00m\n\u001b[0;32m    856\u001b[0m     \u001b[39m# Binary mode does not support 'encoding' and 'newline'.\u001b[39;00m\n\u001b[0;32m    857\u001b[0m     \u001b[39mif\u001b[39;00m ioargs\u001b[39m.\u001b[39mencoding \u001b[39mand\u001b[39;00m \u001b[39m\"\u001b[39m\u001b[39mb\u001b[39m\u001b[39m\"\u001b[39m \u001b[39mnot\u001b[39;00m \u001b[39min\u001b[39;00m ioargs\u001b[39m.\u001b[39mmode:\n\u001b[0;32m    858\u001b[0m         \u001b[39m# Encoding\u001b[39;00m\n\u001b[1;32m--> 859\u001b[0m         handle \u001b[39m=\u001b[39m \u001b[39mopen\u001b[39;49m(\n\u001b[0;32m    860\u001b[0m             handle,\n\u001b[0;32m    861\u001b[0m             ioargs\u001b[39m.\u001b[39;49mmode,\n\u001b[0;32m    862\u001b[0m             encoding\u001b[39m=\u001b[39;49mioargs\u001b[39m.\u001b[39;49mencoding,\n\u001b[0;32m    863\u001b[0m             errors\u001b[39m=\u001b[39;49merrors,\n\u001b[0;32m    864\u001b[0m             newline\u001b[39m=\u001b[39;49m\u001b[39m\"\u001b[39;49m\u001b[39m\"\u001b[39;49m,\n\u001b[0;32m    865\u001b[0m         )\n\u001b[0;32m    866\u001b[0m     \u001b[39melse\u001b[39;00m:\n\u001b[0;32m    867\u001b[0m         \u001b[39m# Binary mode\u001b[39;00m\n\u001b[0;32m    868\u001b[0m         handle \u001b[39m=\u001b[39m \u001b[39mopen\u001b[39m(handle, ioargs\u001b[39m.\u001b[39mmode)\n",
      "\u001b[1;31mFileNotFoundError\u001b[0m: [Errno 2] No such file or directory: 'K-means\\\\hepatitis\\\\hepatitis.data'"
     ]
    }
   ],
   "source": [
    "df = read_data('hepatitis\\\\hepatitis.data')\n",
    "df_clustered = k_means(df, 3)\n",
    "df_clustered.to_csv('hepatitis_clustered.csv', index=False)"
   ]
  }
 ],
 "metadata": {
  "kernelspec": {
   "display_name": "Python 3",
   "language": "python",
   "name": "python3"
  },
  "language_info": {
   "codemirror_mode": {
    "name": "ipython",
    "version": 3
   },
   "file_extension": ".py",
   "mimetype": "text/x-python",
   "name": "python",
   "nbconvert_exporter": "python",
   "pygments_lexer": "ipython3",
   "version": "3.11.3"
  },
  "orig_nbformat": 4
 },
 "nbformat": 4,
 "nbformat_minor": 2
}
