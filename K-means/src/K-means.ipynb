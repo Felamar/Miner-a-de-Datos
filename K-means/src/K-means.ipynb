{
 "cells": [
  {
   "cell_type": "code",
   "execution_count": 210,
   "metadata": {},
   "outputs": [],
   "source": [
    "import pandas as pd\n",
    "import numpy as np"
   ]
  },
  {
   "cell_type": "code",
   "execution_count": 211,
   "metadata": {},
   "outputs": [],
   "source": [
    "def read_data(file_name: str) -> pd.DataFrame:\n",
    "    # Read data from file\n",
    "    df = pd.read_csv(file_name, header=None, sep=',')\n",
    "    # Replace '?' with NaN\n",
    "    df = df.replace('?', np.nan)\n",
    "    # Convert to float32\n",
    "    return df.astype(np.float32)"
   ]
  },
  {
   "cell_type": "code",
   "execution_count": 212,
   "metadata": {},
   "outputs": [],
   "source": [
    "def a_distance(centroid_a, object_a, range_a) -> float:\n",
    "    # Calculate distance between centroid and object\n",
    "\n",
    "    # If centroid or object is NaN, return 1\n",
    "    if np.isnan(centroid_a) or np.isnan(object_a): return 1\n",
    "    # If centroid and object are the same, return 0\n",
    "    if centroid_a == object_a                    : return 0\n",
    "    # Else, return distance\n",
    "    return abs(centroid_a - object_a) / range_a"
   ]
  },
  {
   "cell_type": "code",
   "execution_count": 213,
   "metadata": {},
   "outputs": [],
   "source": [
    "def HEOM(centroid, object, ranges) -> float:\n",
    "    # Calculate HEOM distance between centroid and object\n",
    "\n",
    "    # Calculate distance for each attribute and store it in an array\n",
    "    distances = np.array([a_distance(centroid[a], object[a], ranges[a]) for a in range(len(centroid))])\n",
    "    # Return square root of sum of squares of distances\n",
    "    return np.sqrt(np.sum(np.square(distances)))"
   ]
  },
  {
   "cell_type": "code",
   "execution_count": 214,
   "metadata": {},
   "outputs": [],
   "source": [
    "def get_extremes(df : pd.DataFrame) -> list:\n",
    "    # Get maximum and minimum values for each column\n",
    "\n",
    "    # Return list of tuples containing maximum and minimum values for each column\n",
    "    return [(df[column].dropna().max(), df[column].dropna().min()) for column in df.columns]"
   ]
  },
  {
   "cell_type": "code",
   "execution_count": 215,
   "metadata": {},
   "outputs": [],
   "source": [
    "def get_ranges(extremes : list) -> np.array:\n",
    "    # Get range for each column\n",
    "\n",
    "    # Return array of ranges for each column\n",
    "    return np.array([ex_tup[0] - ex_tup[1] for ex_tup in extremes])"
   ]
  },
  {
   "cell_type": "code",
   "execution_count": 216,
   "metadata": {},
   "outputs": [],
   "source": [
    "def get_centroids(extremes: list, k: int, ranges: np.array) -> np.array:\n",
    "    # Get k random centroids\n",
    "\n",
    "    # Create empty list to store centroids\n",
    "    centroids = []\n",
    "\n",
    "    # For each centroid\n",
    "    for _ in range(k):\n",
    "        # Create empty list to store centroid values\n",
    "        centroid = []\n",
    "\n",
    "        # For each column\n",
    "        for i, (max, min) in enumerate(extremes):\n",
    "            # If range is 1, choose either maximum or minimum\n",
    "            if   ranges[i] == 1            : a = np.random.choice([max, min])\n",
    "            # If range is float, choose a random float between maximum and minimum\n",
    "            elif max % 1 > 0 or min % 1 > 0: a = round(np.random.uniform(min, max), 2)\n",
    "            # If range is integer, choose a random integer between maximum and minimum\n",
    "            else                           : a = np.random.randint(min, max)\n",
    "            # Append value to centroid list\n",
    "            centroid.append(a)\n",
    "\n",
    "        # Append centroid to centroids list\n",
    "        centroids.append(centroid)\n",
    "        \n",
    "    # Return array of centroids\n",
    "    return np.array(centroids)"
   ]
  },
  {
   "cell_type": "code",
   "execution_count": 217,
   "metadata": {},
   "outputs": [],
   "source": [
    "def clustering(centroids: np.array, df: pd.DataFrame, ranges: np.array) -> np.array:\n",
    "    # Cluster objects to centroids\n",
    "\n",
    "    # Create empty array to store clusters\n",
    "    clusters = np.zeros(len(df))\n",
    "\n",
    "    # For each object\n",
    "    for i, row in df.iterrows():\n",
    "        # Calculate HEOM distance between object and each centroid\n",
    "        distances   = np.array([HEOM(centroid, row, ranges) for centroid in centroids])\n",
    "        # Assign object to cluster with minimum distance\n",
    "        clusters[i] = np.argmin(distances)\n",
    "\n",
    "    # Return array of clusters\n",
    "    return clusters"
   ]
  },
  {
   "cell_type": "code",
   "execution_count": 218,
   "metadata": {},
   "outputs": [],
   "source": [
    "def check_centroid_values(centroids: np.array, df: pd.DataFrame, ranges: np.array) -> np.array:\n",
    "    # Check if centroid values are valid\n",
    "    new_centroids = np.zeros(centroids.shape)\n",
    "    # For each centroid\n",
    "    for k, centroid in enumerate(centroids):\n",
    "        for i, value in enumerate(centroid):\n",
    "            new_centroids[k, i] = df[df['cluster'] == k][i].mode().values[0] if ranges[i] == 1 else value\n",
    "\n",
    "    return new_centroids"
   ]
  },
  {
   "cell_type": "code",
   "execution_count": 219,
   "metadata": {},
   "outputs": [],
   "source": [
    "def k_means(df: pd.DataFrame, k: int) -> pd.DataFrame:\n",
    "    # K-means clustering algorithm\n",
    "\n",
    "    # Get maximum and minimum values for each column\n",
    "    extremes     = get_extremes (df)\n",
    "    # Get range for each column\n",
    "    ranges       = get_ranges   (extremes)\n",
    "    # Get k random centroids\n",
    "    centroids    = get_centroids(extremes, k, ranges)\n",
    "    # Cluster objects to centroids\n",
    "    clusters     = clustering   (centroids, df, ranges)\n",
    "    # Create new dataframe with clusters\n",
    "    df_clustered = df.copy().assign(cluster=clusters)\n",
    "\n",
    "    # Create empty list to store clusters\n",
    "    cluster_array = []\n",
    "    # Append clusters to cluster array\n",
    "    cluster_array.append(clusters)\n",
    "\n",
    "    # While clusters are changing\n",
    "    while True:\n",
    "        # Calculate new centroids\n",
    "        new_centroids = np.array  ([round(df_clustered[df_clustered['cluster'] == i].mean(), 2)[:-1] for i in range(k)])\n",
    "        # Check if centroid values are valid\n",
    "        new_centroids = check_centroid_values(new_centroids, df_clustered, ranges)\n",
    "        # Cluster objects to new centroids\n",
    "        new_clusters  = clustering(new_centroids, df, ranges)\n",
    "        # Append clusters to cluster array\n",
    "        cluster_array.append(new_clusters)\n",
    "\n",
    "        # If cluster array has more than 3 elements pop the first element\n",
    "        if len(cluster_array) > 3: cluster_array.pop(0)\n",
    "        # If first and third cluster are the same, break\n",
    "        if len(cluster_array) > 2 and np.array_equal(cluster_array[0], cluster_array[2]): break\n",
    "        # If second and third cluster are the same, break\n",
    "        if np.array_equal(clusters, new_clusters): break\n",
    "\n",
    "        # Set clusters to new clusters\n",
    "        clusters = new_clusters\n",
    "        # Set cluster column to new clusters\n",
    "        df_clustered['cluster'] = clusters\n",
    "\n",
    "        print(f'centroids: \\n{new_centroids}')\n",
    "        print(f'clusters: \\n{clusters}')\n",
    "\n",
    "    # Return dataframe with clusters        \n",
    "    return pd.DataFrame(clusters)"
   ]
  },
  {
   "cell_type": "code",
   "execution_count": 220,
   "metadata": {},
   "outputs": [],
   "source": [
    "df = read_data('C:\\\\Users\\\\felip\\\\Documents\\\\GitHub\\\\Miner-a-de-Datos\\\\K-means\\\\hepatitis\\\\hepatitis.data')\n",
    "df_clustered = k_means(df, 3)\n",
    "df_clustered.to_csv('hepatitis_clustered.csv', index=False)"
   ]
  }
 ],
 "metadata": {
  "kernelspec": {
   "display_name": "Python 3",
   "language": "python",
   "name": "python3"
  },
  "language_info": {
   "codemirror_mode": {
    "name": "ipython",
    "version": 3
   },
   "file_extension": ".py",
   "mimetype": "text/x-python",
   "name": "python",
   "nbconvert_exporter": "python",
   "pygments_lexer": "ipython3",
   "version": "3.11.3"
  },
  "orig_nbformat": 4
 },
 "nbformat": 4,
 "nbformat_minor": 2
}
